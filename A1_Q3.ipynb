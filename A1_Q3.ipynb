{
 "cells": [
  {
   "cell_type": "markdown",
   "metadata": {},
   "source": [
    "### Code by John Pan (260739619)"
   ]
  },
  {
   "cell_type": "code",
   "execution_count": 58,
   "metadata": {},
   "outputs": [],
   "source": [
    "#Code by John Pan 260739619\n",
    "import numpy as np\n",
    "import statistics as stat"
   ]
  },
  {
   "cell_type": "markdown",
   "metadata": {},
   "source": [
    "### Question 3 a) BRUTE FORCE"
   ]
  },
  {
   "cell_type": "code",
   "execution_count": 86,
   "metadata": {},
   "outputs": [],
   "source": [
    "#Get a list of all possible travel routes\n",
    "from sympy.utilities.iterables import multiset_permutations\n",
    "a = np.array([0,1,2,3,4,5,6]) #7 cities\n",
    "city_perms = []\n",
    "for p in multiset_permutations(a):\n",
    "    city_perms.append(p)\n"
   ]
  },
  {
   "cell_type": "code",
   "execution_count": 209,
   "metadata": {},
   "outputs": [
    {
     "name": "stdout",
     "output_type": "stream",
     "text": [
      "brute force mean is:  1.7456529330587838\n",
      "brute force standard deviation is:  0.34643956973354434\n",
      "brute force max/min:  2.764580334472379 / 0.9898952758001994\n"
     ]
    }
   ],
   "source": [
    "TSP_insts = [] #store instances of TSP maps\n",
    "dist = [] #store tour lengths for 1 TSP inst\n",
    "best_dists = [] #store best tour lengths of all TSP instances\n",
    "\n",
    "#Get 100 TSP instances (A list of 100 arrays, for which each row is 1 coordinate of a city)\n",
    "for i in range(0,100):\n",
    "    TSP_insts.append(np.random.rand(14).reshape(7,2)) #get a TSP instance\n",
    "\n",
    "#Get distance for each TSP instance\n",
    "for i in range(0,100):   \n",
    "    TSP = TSP_insts[i]\n",
    "    dist = [] #reset to empty for next instance\n",
    "    \n",
    "    for u in range(0,len(city_perms)):\n",
    "        #get distances between each city\n",
    "        currMap = city_perms[u] #get current permutation\n",
    "        tmp_dist = 0 #accumulates distance between cities of 1 permutation, reset before next permutation\n",
    "        \n",
    "        # sum up the distances between each city of this permutation\n",
    "        for j in range(0,6):\n",
    "            a = TSP[currMap[j]]\n",
    "            b = TSP[currMap[j+1]]\n",
    "            tmp_dist += np.linalg.norm(a-b)\n",
    "        \n",
    "        #save this tour length and then do next possible route\n",
    "        dist.append(tmp_dist)\n",
    "    \n",
    "    #store the min tour length of this instance\n",
    "    best_dists.append(min(dist))\n",
    "\n",
    "mean = stat.mean(best_dists)\n",
    "stdev = stat.stdev(best_dists)\n",
    "mmin = min(best_dists)\n",
    "mmax = max(best_dists)\n",
    "\n",
    "print(\"brute force mean is: \", mean)\n",
    "print(\"brute force standard deviation is: \", stdev)\n",
    "print(\"brute force max/min: \",mmax,\"/\",mmin)\n",
    "#print(best_dists)"
   ]
  },
  {
   "cell_type": "markdown",
   "metadata": {},
   "source": [
    "### Question b) BASELINE AND HILL CLIMB (run below functions first)"
   ]
  },
  {
   "cell_type": "code",
   "execution_count": 236,
   "metadata": {
    "scrolled": true
   },
   "outputs": [
    {
     "name": "stdout",
     "output_type": "stream",
     "text": [
      "baseline mean is:  3.1313454293676983\n",
      "baseline standard deviation is:  0.6686589956104334\n",
      "baseline max/min:  4.94460987438775 / 2.048955449197502\n",
      "baseline: number of times a random tour is optimal:  0\n",
      "hill climb algo mean is:  2.3816802923278755\n",
      "hill climb algo standard deviation is:  0.53279206742532\n",
      "hill climb algo max/min:  3.781644888003811 / 0.9898952758001995\n",
      "hill climb: number of times an optimal tour is found:  1\n"
     ]
    }
   ],
   "source": [
    "#reuse TSP_insts from above\n",
    "randTour = [] #store the random tour lengths\n",
    "hillclimb_tours = [] #store the tour lengths obtained using hillclimb\n",
    "countrand = 0 #count number of times we coincidentally get optimal solution\n",
    "counthill = 0 #count number of times we get optimal solution using hillclimb\n",
    "\n",
    "for i in range(0,100):   \n",
    "    TSP = TSP_insts[i]\n",
    "    dist = [] #reset to empty for next instance\n",
    "    mmap = np.random.permutation(7)\n",
    "    tmp_dist = 0 #reset\n",
    "    \n",
    "    # hill-climb section with random tour as start state\n",
    "    hillclimb_tours.append(hillclimb(TSP,mmap,7)) #RUN BELOW BLOCKS WITH HILLCLIMB FUNCTION FIRST\n",
    "    if abs(hillclimb_tours[i]-min(best_dists)) < 0.1: #check if we got an optimal length. Use tolerance of 0.001\n",
    "        counthill += 1\n",
    "    #hill-climb section end\n",
    "    \n",
    "    # baseline section, with random tour for each instance\n",
    "    \n",
    "    # calculate distance of this tour of 7 cities\n",
    "    for j in range(0,6):\n",
    "        a = TSP[mmap[j]]\n",
    "        b = TSP[mmap[j+1]]\n",
    "        tmp_dist += np.linalg.norm(a-b)\n",
    "    \n",
    "    if abs(tmp_dist - min(best_dists)) < 0.1: #check if we got an optimal length. Use tolerance of 0.001\n",
    "        countrand += 1\n",
    "        \n",
    "    randTour.append(tmp_dist) #save the tour length of this instance\n",
    "\n",
    "# baseline stats\n",
    "rmean = stat.mean(randTour)\n",
    "rstdev = stat.stdev(randTour)\n",
    "rmin = min(randTour)\n",
    "rmax = max(randTour)\n",
    "\n",
    "print(\"baseline mean is: \", rmean)\n",
    "print(\"baseline standard deviation is: \", rstdev)\n",
    "print(\"baseline max/min: \",rmax,\"/\",rmin)\n",
    "print(\"baseline: number of times a random tour is optimal: \", countrand)\n",
    "\n",
    "#hill climb stats\n",
    "hmean = stat.mean(hillclimb_tours)\n",
    "hstdev = stat.stdev(hillclimb_tours)\n",
    "hmin = min(hillclimb_tours)\n",
    "hmax = max(hillclimb_tours)\n",
    "\n",
    "print(\"hill climb algo mean is: \", hmean)\n",
    "print(\"hill climb algo standard deviation is: \", hstdev)\n",
    "print(\"hill climb algo max/min: \",hmax,\"/\",hmin)\n",
    "print(\"hill climb: number of times an optimal tour is found: \", counthill)"
   ]
  },
  {
   "cell_type": "markdown",
   "metadata": {},
   "source": [
    "### Q3 C) HILL CLIMB CODE"
   ]
  },
  {
   "cell_type": "code",
   "execution_count": 159,
   "metadata": {},
   "outputs": [],
   "source": [
    "#generate neighbours function\n",
    "import copy as cp\n",
    "def neighbours(currPath, ncity):\n",
    "    neighboursList = []\n",
    "    for i in range(0,ncity-1):\n",
    "        tmpPath = cp.deepcopy(currPath)\n",
    "        tmpPath[[i,i+1]] = tmpPath[[i+1,i]]\n",
    "        neighboursList.append(tmpPath)\n",
    "    return neighboursList\n",
    "\n",
    "#calculates the cost \n",
    "def pathCost(TSP,path,ncity):\n",
    "    tmp_dist = 0\n",
    "    for j in range(0,ncity-1):\n",
    "        a = TSP[path[j]] #gets the row of city represented by coordinates x = col1, y =col2\n",
    "        b = TSP[path[j+1]]\n",
    "        tmp_dist += np.linalg.norm(a-b)\n",
    "    return tmp_dist"
   ]
  },
  {
   "cell_type": "code",
   "execution_count": 160,
   "metadata": {},
   "outputs": [],
   "source": [
    "def hillclimb(TSP,randpath,ncity):\n",
    "    E = pathCost(TSP,randpath,ncity) #get initial tour length\n",
    "    X = randpath #get initial tour \n",
    "    neighbours_cost = [] #store neighbours tour lengths\n",
    "    inf = 0\n",
    "    \n",
    "    while inf == 0: #infinite loop\n",
    "        neighbs = neighbours(X,ncity) #get the neighbours, list of 6 maps, which are 1d arrays\n",
    "        #get neighbours tour lengths\n",
    "        for i in range(0,ncity-1): #there are six possible neighbours by switch 2 adjacent cities for a map of 7 cities\n",
    "            neighbours_cost.append(pathCost(TSP,neighbs[i],ncity))\n",
    "\n",
    "        if min(neighbours_cost) >= E: #already have shortest length\n",
    "            return E #we return the current shortest tour directly\n",
    "        else: #update to new shortest tour\n",
    "            E = min(neighbours_cost)\n",
    "            X = neighbs[neighbours_cost.index(min(neighbours_cost))] \n",
    "            neighbours_cost.clear()\n",
    "    \n",
    "    \n",
    "    "
   ]
  },
  {
   "cell_type": "markdown",
   "metadata": {},
   "source": [
    "### 100 CITIES"
   ]
  },
  {
   "cell_type": "code",
   "execution_count": 172,
   "metadata": {},
   "outputs": [
    {
     "name": "stdout",
     "output_type": "stream",
     "text": [
      "baseline mean is:  52.031883786960016\n",
      "baseline standard deviation is:  2.6007175448943607\n",
      "baseline max/min:  58.91093600885729 / 45.27802023846601\n",
      "hill climb algo mean is:  39.13722423606931\n",
      "hill climb algo standard deviation is:  1.9447130836957343\n",
      "hill climb algo max/min:  44.92750949113765 / 34.397808388287345\n"
     ]
    }
   ],
   "source": [
    "#reuse TSP_insts from above\n",
    "hTSP_insts = []\n",
    "hrandTour = [] #store the random tour lengths\n",
    "hhillclimb_tours = [] #store the tour lengths obtained using hillclimb\n",
    "\n",
    "#Get 100 TSP instances (A list of 100 arrays, for which each row is 1 coordinate of a city)\n",
    "for i in range(0,100):\n",
    "    hTSP_insts.append(np.random.rand(200).reshape(100,2)) #get a TSP instance of 100 cities\n",
    "\n",
    "for i in range(0,100):   \n",
    "    hTSP = hTSP_insts[i]\n",
    "    dist = [] #reset to empty for next instance\n",
    "    hmap = np.random.permutation(100)\n",
    "    tmp_dist = 0 #reset\n",
    "    \n",
    "    # hill-climb section with random tour as start state\n",
    "    hhillclimb_tours.append(hillclimb(hTSP,hmap,100)) #RUN BLOCKS WITH HILLCLIMB FUNCTION FIRST\n",
    "    \n",
    "    # baseline section, with random tour for each instance\n",
    "    \n",
    "    # calculate distance of this tour of 100 cities\n",
    "    for j in range(0,99):\n",
    "        a = hTSP[hmap[j]]\n",
    "        b = hTSP[hmap[j+1]]\n",
    "        tmp_dist += np.linalg.norm(a-b)\n",
    "        \n",
    "    hrandTour.append(tmp_dist) #save the tour length of this instance\n",
    "\n",
    "# stats for 100 cities\n",
    "hrmean = stat.mean(hrandTour)\n",
    "hrstdev = stat.stdev(hrandTour)\n",
    "hrmin = min(hrandTour)\n",
    "hrmax = max(hrandTour)\n",
    "\n",
    "print(\"baseline mean is: \", hrmean)\n",
    "print(\"baseline standard deviation is: \", hrstdev)\n",
    "print(\"baseline max/min: \",hrmax,\"/\",hrmin)\n",
    "\n",
    "#hill climb stats\n",
    "hhmean = stat.mean(hhillclimb_tours)\n",
    "hhstdev = stat.stdev(hhillclimb_tours)\n",
    "hhmin = min(hhillclimb_tours)\n",
    "hhmax = max(hhillclimb_tours)\n",
    "\n",
    "print(\"hill climb algo mean is: \", hhmean)\n",
    "print(\"hill climb algo standard deviation is: \", hhstdev)\n",
    "print(\"hill climb algo max/min: \",hhmax,\"/\",hhmin)"
   ]
  },
  {
   "cell_type": "code",
   "execution_count": null,
   "metadata": {},
   "outputs": [],
   "source": []
  }
 ],
 "metadata": {
  "kernelspec": {
   "display_name": "Python 3",
   "language": "python",
   "name": "python3"
  },
  "language_info": {
   "codemirror_mode": {
    "name": "ipython",
    "version": 3
   },
   "file_extension": ".py",
   "mimetype": "text/x-python",
   "name": "python",
   "nbconvert_exporter": "python",
   "pygments_lexer": "ipython3",
   "version": "3.7.4"
  }
 },
 "nbformat": 4,
 "nbformat_minor": 2
}
